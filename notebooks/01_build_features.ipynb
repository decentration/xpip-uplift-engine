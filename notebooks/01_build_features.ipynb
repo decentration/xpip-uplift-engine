{
 "cells": [
  {
   "cell_type": "markdown",
   "id": "c482efdf",
   "metadata": {},
   "source": [
    "# 01 — Build features (MVP)\n",
    "\n",
    "This notebook populates `data/seed/features_template_v0_0_2.csv` for the 75 towns.\n",
    "\n",
    "**It does:**\n",
    "- Load `places_seed_v0_0_1.csv` and `features_template_v0_0_2.csv`\n",
    "- (You) join in IMD, crime/ASB, charities & grants, and micro‑survey baseline\n",
    "- Save the updated `features_template_v0_0_2.csv`\n",
    "\n",
    "> Keep the columns exactly as in the template for the MVP scripts.\n"
   ]
  },
  {
   "cell_type": "code",
   "execution_count": null,
   "id": "a13ed2fb",
   "metadata": {},
   "outputs": [],
   "source": [
    "from pathlib import Path\n",
    "import pandas as pd\n",
    "import numpy as np\n",
    "\n",
    "REPO = Path('..').resolve()\n",
    "SEED = REPO / 'data' / 'seed'\n",
    "\n",
    "places_path = SEED / 'places_seed_v0_0_1.csv'\n",
    "features_path = SEED / 'features_template_v0_0_2.csv'\n",
    "places = pd.read_csv(places_path)\n",
    "features = pd.read_csv(features_path)\n",
    "\n",
    "print('places:', places.shape, places_path)\n",
    "print('features:', features.shape, features_path)\n",
    "display(places.head(3))\n",
    "display(features.head(3))"
   ]
  },
  {
   "cell_type": "markdown",
   "id": "02056d84",
   "metadata": {},
   "source": [
    "## TODO: Attach open data\n",
    "\n",
    "Fill these fields from your sources (same shape as the template):\n",
    "\n",
    "- `imd2019_decile` → join from IMD (LSOA level)\n",
    "- `crime_rate_per_1k`, `asb_trend_12m` → aggregate Police.uk (rolling 12m + slope)\n",
    "- `charities_active_count`, `recent_grants_24m_gbp`, `grant_funding_3y_gbp` → Charity Commission + 360Giving\n",
    "- `belonging_baseline_value` → micro‑survey (CLS wording) or neutral prior\n",
    "- Flags: `lighting_presence_flag`, `grime_hotspot_flag`, `youth_facility_within_800m`\n"
   ]
  },
  {
   "cell_type": "code",
   "execution_count": null,
   "id": "15441b5a",
   "metadata": {},
   "outputs": [],
   "source": [
    "# Example neutral priors / dtype hygiene (remove once real data is joined)\n",
    "features['belonging_baseline_value'] = (\n",
    "    pd.to_numeric(features.get('belonging_baseline_value'), errors='coerce')\n",
    "    .fillna(55)\n",
    ")\n",
    "num_cols = [\n",
    "    'imd2019_decile','pop_density_per_km2','pct_under_18','pct_65_plus','pct_social_rent',\n",
    "    'crime_rate_per_1k','asb_trend_12m','charities_active_count','recent_grants_24m_gbp','grant_funding_3y_gbp'\n",
    "]\n",
    "for c in num_cols:\n",
    "    if c in features.columns:\n",
    "        features[c] = pd.to_numeric(features[c], errors='coerce')\n",
    "\n",
    "features.to_csv(features_path, index=False)\n",
    "features_path"
   ]
  },
  {
   "cell_type": "markdown",
   "id": "450d2362",
   "metadata": {},
   "source": [
    "## Quick peek at results"
   ]
  },
  {
   "cell_type": "code",
   "execution_count": null,
   "id": "3e707f21",
   "metadata": {},
   "outputs": [],
   "source": [
    "features.sample(min(5, len(features)))"
   ]
  }
 ],
 "metadata": {},
 "nbformat": 4,
 "nbformat_minor": 5
}
